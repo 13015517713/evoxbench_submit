{
 "cells": [
  {
   "cell_type": "code",
   "execution_count": 18,
   "metadata": {},
   "outputs": [
    {
     "name": "stdout",
     "output_type": "stream",
     "text": [
      "['/home/wcx/gitProject/evoxbench/evoxbench_submit/c10mop2/results.json']\n"
     ]
    }
   ],
   "source": [
    "import glob\n",
    "\n",
    "# files = sorted(glob.glob('c10*.json'), reverse=False)\n",
    "files = ['/home/wcx/gitProject/evoxbench/evoxbench_submit/c10mop2/results.json']\n",
    "print(files)"
   ]
  },
  {
   "cell_type": "code",
   "execution_count": 19,
   "metadata": {},
   "outputs": [
    {
     "name": "stdout",
     "output_type": "stream",
     "text": [
      "task pid = 00 \n",
      "runs = [1, 2, 3, 4, 5, 6, 7, 8, 9, 10, 11, 12, 13, 14, 15, 16, 17, 18, 19, 20, 21, 22, 23, 24, 25, 26, 27, 28, 29, 30, 31] \n",
      "HVs = [0.9240186217054188, 0.9214740158749678, 0.9243329591878658, 0.9234869514862888, 0.925409261918203, 0.9239671007362773, 0.9236179215612563, 0.9237709774795044, 0.9220575722666233, 0.9237765747500796, 0.925513713855334, 0.9238427921363953, 0.9218195438159852, 0.922006471273598, 0.9241520184129817, 0.9237426564793015, 0.9254791044517201, 0.9238177949526469, 0.9225971825479536, 0.9256976035726744, 0.9208912747079187, 0.9240816063913047, 0.9237811139544841, 0.9243041780153088, 0.9224145451975242, 0.9241469428706373, 0.9213709018314937, 0.9236208713034257, 0.9242023435227769, 0.9216610899613801, 0.9244480434683854]\n",
      "avg HV =  0.9235323790222488  standard deviation =  0.0012611309681464001\n",
      "avg IGD =  0.01148257134575849  standard deviation =  0.007501602450325092\n"
     ]
    }
   ],
   "source": [
    "import json\n",
    "import numpy as np\n",
    "for pid, file in enumerate(files):\n",
    "    data_runs = json.load(open(file, 'r'))\n",
    "    print(f'task pid = {pid:02d} ')\n",
    "    runs = []\n",
    "    HVs = []\n",
    "    IGDs = []\n",
    "    for data_run in data_runs:\n",
    "        runs.append(data_run['run'])\n",
    "        HVs.append(data_run['HV'])\n",
    "        IGDs.append(data_run['IGD'])\n",
    "    print(f'runs = {runs} \\nHVs = {HVs}')\n",
    "    print('avg HV = ', sum(HVs)/len(HVs), ' standard deviation = ', np.std(HVs))\n",
    "    print('avg IGD = ', sum(IGDs)/len(IGDs), ' standard deviation = ', np.std(IGDs))\n"
   ]
  }
 ],
 "metadata": {
  "kernelspec": {
   "display_name": "evoxbench",
   "language": "python",
   "name": "python3"
  },
  "language_info": {
   "codemirror_mode": {
    "name": "ipython",
    "version": 3
   },
   "file_extension": ".py",
   "mimetype": "text/x-python",
   "name": "python",
   "nbconvert_exporter": "python",
   "pygments_lexer": "ipython3",
   "version": "3.8.16"
  },
  "orig_nbformat": 4
 },
 "nbformat": 4,
 "nbformat_minor": 2
}
